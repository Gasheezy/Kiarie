{
 "metadata": {
  "language_info": {
   "codemirror_mode": {
    "name": "ipython",
    "version": 3
   },
   "file_extension": ".py",
   "mimetype": "text/x-python",
   "name": "python",
   "nbconvert_exporter": "python",
   "pygments_lexer": "ipython3",
   "version": "3.6.9-final"
  },
  "orig_nbformat": 2,
  "kernelspec": {
   "name": "python36964bit811ec077e77945c7bbad8b40a55b712d",
   "display_name": "Python 3.6.9 64-bit"
  }
 },
 "nbformat": 4,
 "nbformat_minor": 2,
 "cells": [
  {
   "cell_type": "code",
   "execution_count": 8,
   "metadata": {
    "tags": []
   },
   "outputs": [
    {
     "output_type": "stream",
     "name": "stdout",
     "text": "Original Array is:\n[[10 40]\n [30 20]]\nSorting the array along the first axis, we have:\n[[10 20]\n [30 40]]\nSort the array along the last axis, we have:\n[[10 40]\n [20 30]]\nSort the flattened array:\n[10 20 30 40]\n"
    }
   ],
   "source": [
    "#Write a NumPy program to sort a given array of shape 2 along the first axis, last axis and on flattened array.\n",
    "\n",
    "#import numpy as np\n",
    "\n",
    "a = np.array([[10, 40], [30, 20]])\n",
    "print (\"Original Array is:\")\n",
    "print (a)\n",
    "\n",
    "print (\"Sorting the array along the first axis, we have:\")\n",
    "print (np.sort(a, axis = 0))\n",
    "\n",
    "print (\"Sort the array along the last axis, we have:\")\n",
    "print(np.sort(a, axis =1))\n",
    "#OR print(np.sort(a))\n",
    "\n",
    "print(\"Sort the flattened array:\")\n",
    "print (np.sort(a, axis = None))\n"
   ]
  },
  {
   "cell_type": "code",
   "execution_count": 23,
   "metadata": {
    "tags": []
   },
   "outputs": [
    {
     "output_type": "stream",
     "name": "stdout",
     "text": "The list of students is:\n[('Rodgers', 8, 4.5), ('Hillary', 6, 5.5), ('Mary', 5, 3.5)]\n\nOriginal Array is:\n[('', 8, 4.5) ('', 6, 5.5) ('', 5, 3.5)]\nSort by height gives:\n[('', 5, 3.5) ('', 8, 4.5) ('', 6, 5.5)]\n"
    }
   ],
   "source": [
    "#Write a NumPy program to create a structured array from given student name, height, class and their data types. Now sort the array on height.\n",
    "\n",
    "import numpy as np\n",
    "\n",
    "data_type = [(\"name\", str), (\"class\", int), (\"height\", float)]\n",
    "student_details = [('Rodgers', 8, 4.5), (\"Hillary\", 6, 5.5), (\"Mary\", 5, 3.5)]\n",
    "print (\"The list of students is:\")\n",
    "print (student_details)\n",
    "\n",
    "#create a structured array\n",
    "students = np.array(student_details, dtype=data_type)\n",
    "print (\"\\nOriginal Array is:\")\n",
    "print (students)\n",
    "\n",
    "print (\"Sort by height gives:\")\n",
    "print (np.sort(students, order = 'height'))\n"
   ]
  },
  {
   "cell_type": "code",
   "execution_count": 29,
   "metadata": {
    "tags": []
   },
   "outputs": [
    {
     "output_type": "stream",
     "name": "stdout",
     "text": "The original array is:\n[('', 5, 4.) ('', 6, 8.) ('', 4, 6.)]\n[('', 4, 6.) ('', 5, 4.) ('', 6, 8.)]\n"
    }
   ],
   "source": [
    "#Write a NumPy program to create a structured array from given student name, height, class and their data types. Now sort by class, then height if class are equal.\n",
    "\n",
    "import numpy as np\n",
    "\n",
    "columns = [(\"name\", str), (\"height\", float), (\"class\", int)]\n",
    "student_details = [(\"John\", 5.7, 4), (\"Kelvin\", 6.1, 8), (\"Mikey\", 4.9, 6)]\n",
    "\n",
    "#create a structured array\n",
    "students = np.array(student_details, dtype=data_type)\n",
    "print (\"The original array is:\")\n",
    "print (students)\n",
    "\n",
    "#sort by class, then height if class are equal.\n",
    "print (np.sort(students, order = [\"class\", \"height\"]))\n",
    "#student_details = np.sort(student_details,\" if height <= )\n"
   ]
  },
  {
   "cell_type": "code",
   "execution_count": 34,
   "metadata": {
    "tags": []
   },
   "outputs": [
    {
     "output_type": "stream",
     "name": "stdout",
     "text": "Sorted Indices\n[4 0 5 3 6 1 2]\n\nSorted data\n1682 38.0\n1023 40.0\n5241 40.0\n1671 41.0\n4532 42.0\n5202 42.0\n6230 45.0\n"
    }
   ],
   "source": [
    "#Write a NumPy program to sort the student id with increasing height of the students from given students id and height. Print the integer indices that describes the sort order by multiple columns and the sorted data.\n",
    "\n",
    "import numpy as np\n",
    "\n",
    "student_id = np.array([1023, 5202, 6230, 1671, 1682, 5241, 4532])\n",
    "student_height = np.array([40., 42., 45., 41., 38., 40., 42.0])\n",
    "\n",
    "#sort by student id then by student height\n",
    "indices = np.lexsort((student_id, student_height))\n",
    "print(\"Sorted Indices\")\n",
    "print (indices)\n",
    "\n",
    "print(\"\\nSorted data\")\n",
    "for n in indices:\n",
    "    print(student_id[n], student_height[n])\n"
   ]
  },
  {
   "cell_type": "code",
   "execution_count": 37,
   "metadata": {
    "tags": []
   },
   "outputs": [
    {
     "output_type": "stream",
     "name": "stdout",
     "text": "Original Array is:\n[1023 5202 6230 1671 1682 5241 4532]\n\nSorted indices of the array are:\n[0 3 4 6 1 5 2]\n"
    }
   ],
   "source": [
    "#Write a NumPy program to get the indices of the sorted elements of a given array.\n",
    "\n",
    "import numpy as np\n",
    "\n",
    "original_array = np.array([1023,5202,6230,1671,1682,5241,4532])\n",
    "print (\"Original Array is:\")\n",
    "print (original_array)\n",
    "\n",
    "indices = np.argsort(original_array)\n",
    "print (\"\\nSorted indices of the array are:\")\n",
    "print (indices)\n"
   ]
  },
  {
   "cell_type": "code",
   "execution_count": 39,
   "metadata": {
    "tags": []
   },
   "outputs": [
    {
     "output_type": "stream",
     "name": "stdout",
     "text": "Original Array is:\n[ 70  50  20  30 -11  60  50  40]\n\nAfter partitioning:\n[-11  30  20  40  50  50  60  70]\n"
    }
   ],
   "source": [
    "#Write a NumPy program to partition a given array in a specified position and move all the smaller elements values to the left of the partition, and the remaining values to the right, in arbitrary order (based on random choice).\n",
    "\n",
    "import numpy as np\n",
    "\n",
    "numbers = np.array([70, 50, 20, 30, -11, 60, 50, 40])\n",
    "print (\"Original Array is:\")\n",
    "print (numbers)\n",
    "\n",
    "print (\"\\nAfter partitioning:\")\n",
    "print (np.partition(numbers, 4))\n",
    "\n"
   ]
  },
  {
   "cell_type": "code",
   "execution_count": 51,
   "metadata": {
    "tags": []
   },
   "outputs": [
    {
     "output_type": "stream",
     "name": "stdout",
     "text": "Original Array is:\n[ 70  50  20  30 -11  60   5  40]\n\nAfter sorting, we have:\n[ 70  60  50  40  30  20   5 -11]\n"
    }
   ],
   "source": [
    "#Write a NumPy program to sort the specified number of elements from beginning of a given array.\n",
    "\n",
    "import numpy as np\n",
    "\n",
    "numbers = np.array([70, 50, 20, 30, -11, 60, 5, 40])\n",
    "print (\"Original Array is:\")\n",
    "print (numbers)\n",
    "\n",
    "#sorted_array = np.array[::-1].sort()\n",
    "print (\"\\nAfter sorting, we have:\")\n",
    "print (-np.sort(-numbers))\n"
   ]
  },
  {
   "cell_type": "code",
   "execution_count": null,
   "metadata": {},
   "outputs": [],
   "source": []
  }
 ]
}