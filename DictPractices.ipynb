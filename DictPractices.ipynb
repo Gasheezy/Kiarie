{
 "metadata": {
  "language_info": {
   "codemirror_mode": {
    "name": "ipython",
    "version": 3
   },
   "file_extension": ".py",
   "mimetype": "text/x-python",
   "name": "python",
   "nbconvert_exporter": "python",
   "pygments_lexer": "ipython3",
   "version": "3.6.9-final"
  },
  "orig_nbformat": 2,
  "kernelspec": {
   "name": "python36964bitvenvvenv3b1ac650cabd43faa86eb3f1b4902522",
   "display_name": "Python 3.6.9 64-bit ('venv': venv)"
  }
 },
 "nbformat": 4,
 "nbformat_minor": 2,
 "cells": [
  {
   "cell_type": "code",
   "execution_count": 8,
   "metadata": {
    "tags": []
   },
   "outputs": [
    {
     "output_type": "stream",
     "name": "stdout",
     "text": "Original Dictionary is: {1: 2, 3: 4, 5: 6, 7: 8, 9: 0}\nDictionary in ascending order is: {9: 0, 1: 2, 3: 4, 5: 6, 7: 8}\nDictionary in descending order is {7: 8, 5: 6, 3: 4, 1: 2, 9: 0}\n"
    }
   ],
   "source": [
    "#Write a Python script to sort (ascending and descending) a dictionary by value.\n",
    "\n",
    "import operator\n",
    "\n",
    "d = {1:2, 3:4, 5:6, 7:8, 9:0}\n",
    "print (\"Original Dictionary is:\", d)\n",
    "\n",
    "sorted_d = dict(sorted(d.items(), key = operator.itemgetter(1)))\n",
    "print (\"Dictionary in ascending order is:\", sorted_d)\n",
    "\n",
    "sorted_d = dict(sorted(d.items(), key=operator.itemgetter(1), reverse=True))\n",
    "print (\"Dictionary in descending order is\", sorted_d)"
   ]
  },
  {
   "cell_type": "code",
   "execution_count": 3,
   "metadata": {
    "tags": []
   },
   "outputs": [
    {
     "output_type": "stream",
     "name": "stdout",
     "text": "{0: 10, 2: 20}\n{0: 10, 2: 20, 4: 10}\n"
    }
   ],
   "source": [
    "#Write a Python program to add a key to a dictionary.\n",
    "\n",
    "d = {0:10, 2:20}\n",
    "print (d)\n",
    "\n",
    "d.update ({4:10})\n",
    "print (d)\n"
   ]
  },
  {
   "cell_type": "code",
   "execution_count": 42,
   "metadata": {
    "tags": []
   },
   "outputs": [
    {
     "output_type": "stream",
     "name": "stdout",
     "text": "{2: 10, 3: 46, 4: 39, 5: 69, 9: 32, 1: 56, 6: 94, 7: 18, 8: 74}\n"
    }
   ],
   "source": [
    "#Write a Python script to concatenate following dictionaries to create a new one.\n",
    "\n",
    "dict1 = {2:10, 3:46, 4:39}\n",
    "dict2 = {5:69, 9:32, 1:56}\n",
    "dict3 = {6:94, 7:18, 8:74}\n",
    "dict4 = {}\n",
    "for d in (dict1,dict2,dict3):dict4.update(d)\n",
    "\n",
    "print (dict4)"
   ]
  },
  {
   "cell_type": "code",
   "execution_count": 10,
   "metadata": {
    "tags": []
   },
   "outputs": [
    {
     "output_type": "stream",
     "name": "stdout",
     "text": "Key is present in dictionary\nKey is not present in dictionary\n"
    }
   ],
   "source": [
    "#Write a Python script to check whether a given key already exists in a dictionary.\n",
    "\n",
    "dict1 = {2:10, 3:46, 4:39, 5: 50, 6: 60}\n",
    "def is_present (x):\n",
    "    if x in dict1:\n",
    "        print (\"Key is present in dictionary\")\n",
    "    else:\n",
    "        print (\"Key is not present in dictionary\")\n",
    "\n",
    "is_present (3)\n",
    "is_present (39)\n"
   ]
  },
  {
   "cell_type": "code",
   "execution_count": 52,
   "metadata": {
    "tags": []
   },
   "outputs": [
    {
     "output_type": "stream",
     "name": "stdout",
     "text": "x has its value as 5\ny has its value as 13\nz has its value as 1\n"
    }
   ],
   "source": [
    "#Write a Python program to iterate over dictionaries using for loops.\n",
    "\n",
    "dict_it = {\"x\":5, \"y\": 13, \"z\":1}\n",
    "\n",
    "for dict_key, dict_value, in dict_it.items():\n",
    "    print (dict_key, \"has its value as\", dict_value)\n",
    "\n"
   ]
  },
  {
   "cell_type": "code",
   "execution_count": 32,
   "metadata": {
    "tags": []
   },
   "outputs": [
    {
     "output_type": "stream",
     "name": "stdout",
     "text": "{0: 0, 1: 1, 2: 4, 3: 9, 4: 16}\n"
    }
   ],
   "source": [
    "#Write a Python script to generate and print a dictionary that contains a number (between 1 and n) in the form (x, x*x)\n",
    "\n",
    "m = {}\n",
    "for x in range (5):\n",
    "    m[x] = x*x\n",
    "\n",
    "print (m)"
   ]
  },
  {
   "cell_type": "code",
   "execution_count": 38,
   "metadata": {
    "tags": []
   },
   "outputs": [
    {
     "output_type": "stream",
     "name": "stdout",
     "text": "{1: 1, 2: 8, 3: 27, 4: 64, 5: 125, 6: 216, 7: 343, 8: 512, 9: 729, 10: 1000, 11: 1331, 12: 1728, 13: 2197, 14: 2744, 15: 3375}\n"
    }
   ],
   "source": [
    "#Write a Python script to print a dictionary where the keys are numbers between 1 and 15 (both included) and the values are square/cube of keys.\n",
    "\n",
    "y = {}\n",
    "\n",
    "for x in range (1,16):\n",
    "#if 1<= x <=15:\n",
    "    y[x] = x**3\n",
    "\n",
    "print (y)"
   ]
  },
  {
   "cell_type": "code",
   "execution_count": 51,
   "metadata": {
    "tags": []
   },
   "outputs": [
    {
     "output_type": "stream",
     "name": "stdout",
     "text": "{2: 10, 3: 46, 4: 39, 5: 69, 9: 32, 1: 56}\n"
    }
   ],
   "source": [
    "#Write a Python script to merge two Python dictionaries.\n",
    "\n",
    "dict1 = {2:10, 3:46, 4:39}\n",
    "dict2 = {5:69, 9:32, 1:56}\n",
    "\n",
    "dict_together = dict1.copy()\n",
    "dict_together.update(dict2)\n",
    "\n",
    "print (dict_together)\n"
   ]
  },
  {
   "cell_type": "code",
   "execution_count": 53,
   "metadata": {
    "tags": []
   },
   "outputs": [
    {
     "output_type": "stream",
     "name": "stdout",
     "text": "472\n"
    }
   ],
   "source": [
    "#Write a Python program to sum all the items in a dictionary.\n",
    "\n",
    "my_dict = {\"data\":100, \"data2\":300, \"data3\":72}\n",
    "print (sum(my_dict.values()))\n",
    "\n"
   ]
  },
  {
   "cell_type": "code",
   "execution_count": 3,
   "metadata": {
    "tags": []
   },
   "outputs": [
    {
     "output_type": "stream",
     "name": "stdout",
     "text": "-1520\n"
    }
   ],
   "source": [
    "#Write a Python program to multiply all the items in a dictionary.\n",
    "\n",
    "my_dict = {\"data\":10, \"data2\":-76, \"data3\":2}\n",
    "\n",
    "result = 1\n",
    "for key in my_dict:\n",
    "    result = result * my_dict[key]\n",
    "\n",
    "print (result)\n"
   ]
  },
  {
   "cell_type": "code",
   "execution_count": 6,
   "metadata": {
    "tags": []
   },
   "outputs": [
    {
     "output_type": "stream",
     "name": "stdout",
     "text": "{'a': 2, 'b': 3, 'c': 8, 'd': 6}\n{'a': 2, 'b': 3, 'd': 6}\n"
    }
   ],
   "source": [
    "#Write a Python program to remove a key from a dictionary.\n",
    "\n",
    "dict1 = {\"a\":2, \"b\":3, \"c\":8, \"d\":6}\n",
    "print (dict1)\n",
    "\n",
    "if \"b\" in dict1:\n",
    "    del dict1[\"c\"]\n",
    "print (dict1)\n"
   ]
  },
  {
   "cell_type": "code",
   "execution_count": 7,
   "metadata": {
    "tags": []
   },
   "outputs": [
    {
     "output_type": "stream",
     "name": "stdout",
     "text": "{'red': '#FF0000', 'green': '#008000', 'blue': '#0000FF'}\n"
    }
   ],
   "source": [
    "#Write a Python program to map two lists into a dictionary.\n",
    "\n",
    "keys = [\"red\", \"green\", \"blue\"]\n",
    "values = [\"#FF0000\", \"#008000\", \"#0000FF\"]\n",
    "\n",
    "color_dictionary = dict (zip(keys, values))\n",
    "print (color_dictionary)\n"
   ]
  },
  {
   "cell_type": "code",
   "execution_count": 6,
   "metadata": {
    "tags": []
   },
   "outputs": [
    {
     "output_type": "stream",
     "name": "stdout",
     "text": "me 23\nthem 48\nus 65\nwe 85\n"
    }
   ],
   "source": [
    "#Write a Python program to sort a dictionary by key.Write a Python program to sort a dictionary by key.\n",
    "\n",
    "dict_sort = {\"me\":23, \"them\":48, \"we\":85, \"us\":65}\n",
    "\n",
    "for key in sorted (dict_sort):\n",
    "    print (key, dict_sort[key])\n"
   ]
  },
  {
   "cell_type": "code",
   "execution_count": 8,
   "metadata": {
    "tags": []
   },
   "outputs": [
    {
     "output_type": "stream",
     "name": "stdout",
     "text": "Maximum Value is: 85\nMinimum value is: 23\n"
    }
   ],
   "source": [
    "#Write a Python program to get the maximum and minimum value in a dictionary.\n",
    "\n",
    "dict_sort = {\"me\":23, \"them\":48, \"we\":85, \"us\":65}\n",
    "\n",
    "key_max = max(dict_sort.keys(), key = (lambda k: dict_sort[k]))\n",
    "key_min = min(dict_sort.keys(), key = (lambda k: dict_sort[k]))\n",
    "\n",
    "print (\"Maximum Value is:\", dict_sort[key_max])\n",
    "print (\"Minimum value is:\", dict_sort[key_min])\n"
   ]
  },
  {
   "cell_type": "code",
   "execution_count": 9,
   "metadata": {
    "tags": []
   },
   "outputs": [
    {
     "output_type": "stream",
     "name": "stdout",
     "text": "{'x': 'red', 'y': 'yellow', 'z': 'green'}\n"
    }
   ],
   "source": [
    "#Write a Python program to get a dictionary from an object's fields.\n",
    "\n",
    "class dictObject (object):\n",
    "    def __init__(self):\n",
    "        self.x = \"red\"\n",
    "        self.y = \"yellow\"\n",
    "        self.z = \"green\"\n",
    "    def do_nothing(self):\n",
    "        pass\n",
    "test = dictObject()\n",
    "print (test.__dict__)\n"
   ]
  },
  {
   "cell_type": "code",
   "execution_count": 11,
   "metadata": {
    "tags": []
   },
   "outputs": [
    {
     "output_type": "stream",
     "name": "stdout",
     "text": "{'id1': {'name': ['Sarah'], 'class': ['V'], 'subject': ['English, Math, Science']}, 'id2': {'name': ['David'], 'class': ['V'], 'subject': ['English, Math, Science']}}\n"
    }
   ],
   "source": [
    "#Write a Python program to remove duplicates from Dictionary.\n",
    "\n",
    "student_data = {\"id1\":\n",
    "{\"name\": [\"Sarah\"],\n",
    "\"class\": [\"V\"],\n",
    "\"subject\": [\"English, Math, Science\"]\n",
    "},\n",
    "\"id2\":\n",
    "{\n",
    "    \"name\": [\"David\"],\n",
    "    \"class\": [\"V\"],\n",
    "    \"subject\": [\"English, Math, Science\"]\n",
    "},\n",
    "\"id3\":\n",
    "{\"name\": [\"Sarah\"],\n",
    "\"class\": [\"V\"],\n",
    "\"subject\": [\"English, Math, Science\"]\n",
    "},\n",
    "}\n",
    "\n",
    "result =    {}\n",
    "\n",
    "for key, value in student_data.items():\n",
    "    if value not in result.values():\n",
    "        result[key] = value\n",
    "\n",
    "print (result)"
   ]
  },
  {
   "cell_type": "code",
   "execution_count": 15,
   "metadata": {
    "tags": []
   },
   "outputs": [
    {
     "output_type": "stream",
     "name": "stdout",
     "text": "Dictionary is empty\n"
    }
   ],
   "source": [
    "#Write a Python program to check a dictionary is empty or not.\n",
    "\n",
    "my_dict = {}\n",
    "\n",
    "if not bool (my_dict):\n",
    "    print (\"Dictionary is empty\")\n"
   ]
  },
  {
   "cell_type": "code",
   "execution_count": 18,
   "metadata": {
    "tags": []
   },
   "outputs": [
    {
     "output_type": "stream",
     "name": "stdout",
     "text": "Counter({'b': 1032, 'a': 420, 'd': 320, 'c': 300})\n"
    }
   ],
   "source": [
    "#Write a Python program to combine two dictionary adding values for common keys.\n",
    "from collections import Counter\n",
    "\n",
    "d1 = {\"a\":100, \"b\":200, \"c\":300}\n",
    "d2 = {\"a\":320, \"b\":832, \"d\":320}\n",
    "\n",
    "d = Counter(d2) + Counter(d1)\n",
    "\n",
    "print (d)\n"
   ]
  },
  {
   "cell_type": "code",
   "execution_count": 20,
   "metadata": {
    "tags": []
   },
   "outputs": [
    {
     "output_type": "stream",
     "name": "stdout",
     "text": "Original List:  [{'V': 'S001'}, {'V': 'S002'}, {'VI': 'S001'}, {'VI': 'S005'}, {'VII': 'S005'}, {'V': 'S009'}, {'VIII': 'S007'}]\nUnique Values {'S001', 'S005', 'S002', 'S009', 'S007'}\n"
    }
   ],
   "source": [
    "#Write a Python program to print all unique values in a dictionary.\n",
    "\n",
    "L = [{\"V\":\"S001\"}, {\"V\": \"S002\"}, {\"VI\": \"S001\"}, {\"VI\": \"S005\"}, {\"VII\":\"S005\"}, {\"V\":\"S009\"},{\"VIII\":\"S007\"}]\n",
    "print(\"Original List: \", L)\n",
    "\n",
    "u_value = set(val for dic in L for val in dic.values())\n",
    "print (\"Unique Values\", u_value)\n",
    "\n"
   ]
  },
  {
   "cell_type": "code",
   "execution_count": 23,
   "metadata": {
    "tags": []
   },
   "outputs": [
    {
     "output_type": "stream",
     "name": "stdout",
     "text": "{'1': ['a', 'b'], '2': ['c', 'd']}\nac\nad\nbc\nbd\n"
    }
   ],
   "source": [
    "#Write a Python program to create and display all combinations of letters, selecting each letter from a different key in a dictionary.\n",
    "\n",
    "import itertools\n",
    "\n",
    "d = {\"1\":[\"a\",\"b\"], \"2\":[\"c\",\"d\"]}\n",
    "print (d)\n",
    "\n",
    "for combo in itertools.product(*[d[k] for k in sorted(d.keys())]):\n",
    "    print (\"\".join(combo))\n"
   ]
  },
  {
   "cell_type": "code",
   "execution_count": 27,
   "metadata": {
    "tags": []
   },
   "outputs": [
    {
     "output_type": "stream",
     "name": "stdout",
     "text": "['b', 'e', 'd']\n"
    }
   ],
   "source": [
    "#Write a Python program to find the highest 3 values in a dictionary\n",
    "\n",
    "from heapq import nlargest\n",
    "my_dict = {\"a\":500, \"b\":3434, \"c\":243, \"d\":642, \"e\":2850}\n",
    "three_largest = nlargest (3, my_dict, key=my_dict.get)\n",
    "print (three_largest)\n"
   ]
  },
  {
   "cell_type": "code",
   "execution_count": 35,
   "metadata": {
    "tags": []
   },
   "outputs": [
    {
     "output_type": "stream",
     "name": "stdout",
     "text": "Counter({'item1': 1150, 'item2': 300})\n"
    }
   ],
   "source": [
    "#Write a Python program to combine values in python list of dictionaries.\n",
    "\n",
    "from collections import Counter\n",
    "\n",
    "item_list = [{'item': 'item1', 'amount': 400}, {'item': 'item2', 'amount': 300}, {'item': 'item1', 'amount': 750}]\n",
    "\n",
    "result = Counter ()\n",
    "for d in item_list:\n",
    "    result[d[\"item\"]] += d[\"amount\"]\n",
    "print (result)\n"
   ]
  },
  {
   "cell_type": "code",
   "execution_count": 38,
   "metadata": {
    "tags": []
   },
   "outputs": [
    {
     "output_type": "stream",
     "name": "stdout",
     "text": "{'w': 1, '3': 1, 'r': 2, 'e': 2, 's': 1, 'o': 1, 'u': 1, 'c': 1}\n"
    }
   ],
   "source": [
    "#Write a Python program to create a dictionary from a string.\n",
    "\n",
    "from collections import defaultdict, Counter\n",
    "\n",
    "str1 = \"w3resource\"\n",
    "my_dict = {}\n",
    "\n",
    "for letter in str1:\n",
    "    my_dict[letter] = my_dict.get(letter, 0) +1\n",
    "print (my_dict)\n",
    "\n"
   ]
  },
  {
   "cell_type": "code",
   "execution_count": null,
   "metadata": {},
   "outputs": [],
   "source": []
  }
 ]
}