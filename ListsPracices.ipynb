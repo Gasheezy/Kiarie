{
 "metadata": {
  "language_info": {
   "codemirror_mode": {
    "name": "ipython",
    "version": 3
   },
   "file_extension": ".py",
   "mimetype": "text/x-python",
   "name": "python",
   "nbconvert_exporter": "python",
   "pygments_lexer": "ipython3",
   "version": "3.6.9-final"
  },
  "orig_nbformat": 2,
  "kernelspec": {
   "name": "python36964bit811ec077e77945c7bbad8b40a55b712d",
   "display_name": "Python 3.6.9 64-bit"
  }
 },
 "nbformat": 4,
 "nbformat_minor": 2,
 "cells": [
  {
   "cell_type": "code",
   "execution_count": 3,
   "metadata": {
    "tags": []
   },
   "outputs": [
    {
     "output_type": "stream",
     "name": "stdout",
     "text": "13\n"
    }
   ],
   "source": [
    "#Write a Python program to sum all the items in a list.\n",
    "\n",
    "def sum_list(items):\n",
    "    sum_numbers = 0\n",
    "    for x in items:\n",
    "        sum_numbers += x\n",
    "    return sum_numbers\n",
    "print (sum_list([1,20,-8]))\n"
   ]
  },
  {
   "cell_type": "code",
   "execution_count": 27,
   "metadata": {
    "tags": []
   },
   "outputs": [
    {
     "output_type": "stream",
     "name": "stdout",
     "text": "435\n"
    }
   ],
   "source": [
    "#Write a Python program to multiplies all the items in a list.Write a Python program to multiplies all the items in a list.\n",
    "\n",
    "def prod_list (items):\n",
    "    prod_list = 1\n",
    "    for x in items:\n",
    "        prod_list *=x\n",
    "    return prod_list\n",
    "print (prod_list ([3,5,29]))\n"
   ]
  },
  {
   "cell_type": "code",
   "execution_count": 26,
   "metadata": {
    "tags": []
   },
   "outputs": [
    {
     "output_type": "stream",
     "name": "stdout",
     "text": "3\n"
    }
   ],
   "source": [
    "#Write a Python program to get the largest number from a list.\n",
    "\n",
    "def max_number_list (vitu):\n",
    "    max = vitu[0]\n",
    "    for a in vitu:\n",
    "        if a > max:\n",
    "            max = a\n",
    "    return max\n",
    "print (max_number_list ([1,2,-9,3]))\n",
    "\n",
    "#For smallest number in a list, change > to be <, i.e if a < max:"
   ]
  },
  {
   "cell_type": "code",
   "execution_count": 33,
   "metadata": {
    "tags": []
   },
   "outputs": [
    {
     "output_type": "stream",
     "name": "stdout",
     "text": "3\n"
    }
   ],
   "source": [
    "#Write a Python program to count the number of strings where the string length is 2 or more and the first and last character are same from a given list of strings.\n",
    "\n",
    "def match_words (words):\n",
    "    ctr = 0\n",
    "\n",
    "    for word in words:\n",
    "        if len(word) >1 and word[0] == word[-1]:\n",
    "            ctr +=1\n",
    "    return ctr\n",
    "print (match_words ([\"abc\",\"xyz\", \"aba\", \"1221\",\"kkk\"]))\n"
   ]
  },
  {
   "cell_type": "code",
   "execution_count": 37,
   "metadata": {
    "tags": []
   },
   "outputs": [
    {
     "output_type": "stream",
     "name": "stdout",
     "text": "[(2, 1), (1, 2), (2, 3), (4, 4), (2, 5)]\n"
    }
   ],
   "source": [
    "#Write a Python program to get a list, sorted in increasing order by the last element in each tuple from a given list of non-empty tuples.\n",
    "\n",
    "#def last (n):      -- seems to work without this line and the immediate next\n",
    "#    return n[-1]\n",
    "\n",
    "def sort_list_last (tuples):\n",
    "    return sorted (tuples, key=last)\n",
    "\n",
    "print (sort_list_last ([(2,5), (1,2), (4,4), (2,3), (2,1)]))\n"
   ]
  },
  {
   "cell_type": "code",
   "execution_count": null,
   "metadata": {},
   "outputs": [],
   "source": []
  }
 ]
}